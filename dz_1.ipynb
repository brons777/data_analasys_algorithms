{
 "cells": [
  {
   "cell_type": "markdown",
   "metadata": {},
   "source": [
    "ДЗ_1"
   ]
  },
  {
   "cell_type": "code",
   "execution_count": 7,
   "metadata": {
    "colab": {},
    "colab_type": "code",
    "id": "ak8b3KV45kVW"
   },
   "outputs": [],
   "source": [
    "import numpy as np\n",
    "import matplotlib.pyplot as plt"
   ]
  },
  {
   "cell_type": "markdown",
   "metadata": {},
   "source": [
    "__Задача:__ предсказание баллов ЕГЭ ученика в зависимости от кол-ва лет стажа его репетитора"
   ]
  },
  {
   "cell_type": "code",
   "execution_count": 8,
   "metadata": {
    "colab": {},
    "colab_type": "code",
    "id": "i77tZbAd5plB"
   },
   "outputs": [
    {
     "data": {
      "text/plain": [
       "array([[ 1,  1,  1,  1,  1,  1,  1,  1,  1,  1],\n",
       "       [ 1,  1,  2,  5,  3,  0,  5, 10,  1,  2]])"
      ]
     },
     "execution_count": 8,
     "metadata": {},
     "output_type": "execute_result"
    }
   ],
   "source": [
    "X = np.array([[1, 1, 1, 1, 1, 1, 1, 1, 1, 1],\n",
    "              [1, 1, 2, 5, 3, 0, 5, 10, 1, 2]])\n",
    "X"
   ]
  },
  {
   "cell_type": "code",
   "execution_count": 10,
   "metadata": {
    "colab": {},
    "colab_type": "code",
    "id": "VsNrKi1Q6Wmh"
   },
   "outputs": [],
   "source": [
    "y = [45, 55, 50, 55, 60, 35, 75, 80, 50, 60]"
   ]
  },
  {
   "cell_type": "code",
   "execution_count": 22,
   "metadata": {
    "colab": {},
    "colab_type": "code",
    "id": "JTSC2cFnCd8T"
   },
   "outputs": [],
   "source": [
    "def calc_mae(y, y_pred):\n",
    "    err = np.mean(np.abs(y - y_pred))\n",
    "    return err\n",
    "\n",
    "def calc_mse(y, y_pred):\n",
    "    err = np.mean((y - y_pred)**2) # <=> 1/n * np.sum((y_pred - y)**2)\n",
    "    return err"
   ]
  },
  {
   "cell_type": "markdown",
   "metadata": {
    "colab_type": "text",
    "id": "JAOgIXLRa--g"
   },
   "source": [
    "Градиентный спуск"
   ]
  },
  {
   "cell_type": "markdown",
   "metadata": {},
   "source": [
    "### Д/З"
   ]
  },
  {
   "cell_type": "markdown",
   "metadata": {
    "colab_type": "text",
    "id": "huXrhXQsZTMt"
   },
   "source": [
    "1. Подберите скорость обучения (alpha) и количество итераций"
   ]
  },
  {
   "cell_type": "code",
   "execution_count": 36,
   "metadata": {
    "colab": {
     "base_uri": "https://localhost:8080/",
     "height": 185
    },
    "colab_type": "code",
    "id": "IDB22MQKMYaJ",
    "outputId": "4c03219e-a57c-4583-f439-6699fd0619bb"
   },
   "outputs": [
    {
     "name": "stdout",
     "output_type": "stream",
     "text": [
      "alpha= 0.5, W_new = [2.40054058e+123 1.32381841e+124], MSE = 1.1602594399693901e+247\n",
      "alpha= 0.44526920222634503, W_new = [9.29218805e+117 5.12433313e+118], MSE = 2.225077223560995e+236\n",
      "alpha= 0.39635722718839594, W_new = [3.10650722e+112 1.71313557e+113], MSE = 3.1921730773141466e+225\n",
      "alpha= 0.35265842775878187, W_new = [8.81366600e+106 4.86044411e+107], MSE = 3.3090150953681666e+214\n",
      "alpha= 0.3136291850255571, W_new = [2.07912609e+101 1.14656900e+102], MSE = 2.380008086565778e+203\n",
      "alpha= 0.27878163578301146, W_new = [3.98111164e+95 2.19545086e+96], MSE = 1.132532733653938e+192\n",
      "alpha= 0.24767802784881654, W_new = [6.01424640e+89 3.31665717e+90], MSE = 3.3702980594258764e+180\n",
      "alpha= 0.21992564089618596, W_new = [6.92947923e+83 3.82137768e+84], MSE = 5.865442025722206e+168\n",
      "alpha= 0.19517221663040704, W_new = [5.84630966e+77 3.22404563e+78], MSE = 5.507275719392427e+156\n",
      "alpha= 0.17310184767827244, W_new = [3.43767604e+71 1.89576417e+72], MSE = 2.5297734860097176e+144\n",
      "alpha= 0.1534312795552001, W_new = [1.32589170e+65 7.31185243e+65], MSE = 5.041652807865657e+131\n",
      "alpha= 0.13590658458113047, W_new = [3.11066356e+58 1.71542765e+59], MSE = 3.7544230818798246e+118\n",
      "alpha= 0.12030017068040245, W_new = [4.03589700e+51 2.22566317e+52], MSE = 8.651507519830127e+104\n",
      "alpha= 0.10640809166591314, W_new = [2.56216378e+44 1.41294824e+45], MSE = 4.841131324217903e+90\n",
      "alpha= 0.09404762891289792, W_new = [6.77716622e+36 3.73738211e+37], MSE = 4.784978972838682e+75\n",
      "alpha= 0.08305511730782004, W_new = [6.01463072e+28 3.31686910e+29], MSE = 5.440565639316741e+59\n",
      "alpha= 0.07328399104488112, W_new = [1.32515709e+20 7.30780128e+20], MSE = 3.919091768171723e+42\n",
      "alpha= 0.0646030272652219, W_new = [4.68625400e+10 2.58431345e+11], MSE = 7.54153255390926e+23\n",
      "alpha= 0.05689476771785703, W_new = [46.23684502 11.39135423], MSE = 1082.84\n",
      "alpha= 0.050054100590135174, W_new = [44.68702568  3.88058648], MSE = 44.04\n",
      "alpha= 0.043986986430116, W_new = [44.38927498  3.93457898], MSE = 44.2\n",
      "alpha= 0.03860931368274384, W_new = [43.93606677  4.0167613 ], MSE = 44.61\n",
      "alpha= 0.03384587080324004, W_new = [43.28924742  4.13405202], MSE = 45.55\n",
      "alpha= 0.029629423210234897, W_new = [42.41722551  4.29217974], MSE = 47.45\n",
      "alpha= 0.02589988451179896, W_new = [41.29944072  4.49487278], MSE = 50.96\n",
      "alpha= 0.02260357249233291, W_new = [39.92931029  4.74332481], MSE = 56.91\n",
      "alpha= 0.01969254129862267, W_new = [38.3152206   5.03601509], MSE = 66.2\n",
      "alpha= 0.017123982119534694, W_new = [36.47959478  5.36887753], MSE = 79.77\n",
      "alpha= 0.014859685425085655, W_new = [34.45642897  5.73574745], MSE = 98.42\n",
      "alpha= 0.012865558525333678, W_new = [32.28788391  6.12897967], MSE = 122.67\n",
      "alpha= 0.01111119283524665, W_new = [30.0205458   6.54012647], MSE = 152.73\n",
      "alpha= 0.00956947579521401, W_new = [27.70187548  6.96058159], MSE = 188.43\n",
      "alpha= 0.008216242904317493, W_new = [25.37720615  7.38212453], MSE = 229.25\n",
      "alpha= 0.007029965780400387, W_new = [23.08748103  7.79733087], MSE = 274.36\n",
      "alpha= 0.005991472572366419, W_new = [20.86777602  8.19984015], MSE = 322.72\n",
      "alpha= 0.005083697420500604, W_new = [18.74654733  8.58449224], MSE = 373.19\n",
      "alpha= 0.004291455993995792, W_new = [16.74548166  8.94735389], MSE = 424.61\n",
      "alpha= 0.0036012444349505317, W_new = [14.8797992   9.28565401], MSE = 475.87\n",
      "alpha= 0.003001059308177996, W_new = [13.15885008  9.59758624], MSE = 526.0\n",
      "alpha= 0.0024802363992074868, W_new = [11.5868111   9.88165335], MSE = 574.16\n",
      "alpha= 0.00202930642155246, W_new = [10.16317528 10.13445143], MSE = 619.71\n",
      "alpha= 0.0016398658910809288, W_new = [ 8.88256466 10.34474523], MSE = 662.18\n",
      "alpha= 0.001304461602335194, W_new = [ 7.73347647 10.48198118], MSE = 701.41\n",
      "alpha= 0.0010164873008731386, W_new = [ 6.69627437 10.48113489], MSE = 738.23\n",
      "alpha= 0.0007700912889138095, W_new = [ 5.74189397 10.23208077], MSE = 777.64\n",
      "alpha= 0.0005600938303613586, W_new = [4.83333627 9.58493676], MSE = 837.85\n",
      "alpha= 0.00038191333709188343, W_new = [3.93109567 8.37768146], MSE = 967.85\n",
      "alpha= 0.0002315004225130452, W_new = [3.00149147 6.48030423], MSE = 1268.03\n",
      "alpha= 0.00010527900201389825, W_new = [2.02495218 3.83914932], MSE = 1897.12\n",
      "alpha= 9.370406407450668e-08, W_new = [1.00102201 0.50356737], MSE = 3046.31\n"
     ]
    }
   ],
   "source": [
    "n = X.shape[1]\n",
    "alpha = np.linspace(0.5, 10**-5, endpoint=True, num=50)\n",
    "for elem in alpha:\n",
    "    W = np.array([1, 0.5])\n",
    "#     print(f'Number of objects = {n} \\\n",
    "#            \\nLearning rate = {alpha} \\\n",
    "#            \\nInitial weights = {W} \\n')\n",
    "\n",
    "    for i in range(101):\n",
    "        y_pred = np.dot(W, X)\n",
    "        err = calc_mse(y, y_pred)\n",
    "        for k in range(len(W)):\n",
    "            W[k] -= elem * (1/n * 2 * np.sum(X[k] * (y_pred - y)))\n",
    "        if i == 100:\n",
    "            alpha /= 1.1\n",
    "            print(f'alpha= {elem}, W_new = {W}, MSE = {round(err,2)}')"
   ]
  },
  {
   "cell_type": "markdown",
   "metadata": {},
   "source": [
    "alpha = 0.05 является лучшим вариантом для шага."
   ]
  },
  {
   "cell_type": "markdown",
   "metadata": {
    "colab_type": "text",
    "id": "5Qu1o4JhZYwI"
   },
   "source": [
    "*2. В этом коде мы избавляемся от итераций по весам, но тут есть ошибка, исправьте ее"
   ]
  },
  {
   "cell_type": "code",
   "execution_count": 38,
   "metadata": {
    "colab": {
     "base_uri": "https://localhost:8080/",
     "height": 185
    },
    "colab_type": "code",
    "id": "WZZzDCQLY4pA",
    "outputId": "28f58ade-72f2-4381-809d-2417752d56e4"
   },
   "outputs": [
    {
     "name": "stdout",
     "output_type": "stream",
     "text": [
      "Number of objects = 10        \n",
      "Learning rate = 0.05        \n",
      "Initial weights = [1.  0.5] \n",
      "\n",
      "Iteration #0: W_new = [ 6.4  19.35], MSE = 3047.75\n",
      "Iteration #10: W_new = [19.96966932  8.87179137], MSE = 379.6\n",
      "Iteration #20: W_new = [29.27719328  6.70531799], MSE = 172.93\n",
      "Iteration #30: W_new = [35.16120834  5.60976141], MSE = 94.66\n",
      "Iteration #40: W_new = [38.85365942  4.93848587], MSE = 63.9\n",
      "Iteration #50: W_new = [41.16920131  4.51849616], MSE = 51.81\n",
      "Iteration #60: W_new = [42.62118483  4.25519525], MSE = 47.05\n",
      "Iteration #70: W_new = [43.53165976  4.0900943 ], MSE = 45.18\n",
      "Iteration #80: W_new = [44.10257814  3.98656703], MSE = 44.45\n",
      "Iteration #90: W_new = [44.46057568  3.9216497 ], MSE = 44.16\n"
     ]
    }
   ],
   "source": [
    "n = X.shape[1]\n",
    "alpha = 0.05\n",
    "W = np.array([1, 0.5])\n",
    "print(f'Number of objects = {n} \\\n",
    "       \\nLearning rate = {alpha} \\\n",
    "       \\nInitial weights = {W} \\n')\n",
    "\n",
    "for i in range(100):\n",
    "    y_pred = np.dot(W, X)\n",
    "    err = calc_mse(y, y_pred)\n",
    "    #for k in range(W.shape[0]):\n",
    "    #     W[k] -= alpha * (1/n * 2 * np.sum(X[k] * (y_pred - y)))\n",
    "    W -= alpha * (1/n * 2 * np.dot(X, (y_pred - y)))\n",
    "    W_pred = W\n",
    "    \n",
    "    if i % 10 == 0:\n",
    "        \n",
    "        print(f'Iteration #{i}: W_new = {W}, MSE = {round(err,2)}')"
   ]
  },
  {
   "cell_type": "markdown",
   "metadata": {
    "colab_type": "text",
    "id": "5Qu1o4JhZYwI"
   },
   "source": [
    "*3. Вместо того, чтобы задавать количество итераций, задайте условие остановки алгоритма - когда ошибка за итерацию начинает изменяться ниже определенного порога (упрощенный аналог параметра tol в линейной регрессии в sklearn)."
   ]
  },
  {
   "cell_type": "code",
   "execution_count": 78,
   "metadata": {},
   "outputs": [
    {
     "name": "stdout",
     "output_type": "stream",
     "text": [
      "Number of objects = 10        \n",
      "Learning rate = 0.05        \n",
      "Initial weights = [1.  0.5] \n",
      "\n",
      "W_new = [45.06062917  3.81283925], MSE = 43.97\n"
     ]
    }
   ],
   "source": [
    "n = X.shape[1]\n",
    "W_pred[:] = 0\n",
    "alpha = 0.05\n",
    "W = np.array([1, 0.5])\n",
    "print(f'Number of objects = {n} \\\n",
    "       \\nLearning rate = {alpha} \\\n",
    "       \\nInitial weights = {W} \\n')\n",
    "max_iter = 1e3\n",
    "min_weight_dist = 1e-5\n",
    "weight_dist = np.inf\n",
    "iter_num = 0\n",
    "\n",
    "while ( weight_dist > min_weight_dist) and (iter_num < max_iter):\n",
    "    y_pred = np.dot(W, X)\n",
    "    err = calc_mse(y, y_pred)\n",
    "    W -= alpha/(iter_num*0.01+1) * (1/n * 2 * np.dot(X, (y_pred - y)))\n",
    "    weight_dist = np.linalg.norm(W - W_pred, ord=2)\n",
    "    W_pred = W.copy()\n",
    "    iter_num += 1\n",
    "    \n",
    "print(f'W_new = {W}, MSE = {round(err,2)}')"
   ]
  },
  {
   "cell_type": "markdown",
   "metadata": {
    "collapsed": true
   },
   "source": [
    "4. Сделайте выводы по результатам работы с GD : что повышает качество результата, что понижает."
   ]
  },
  {
   "cell_type": "markdown",
   "metadata": {},
   "source": [
    "Выбор шага играет огромную роль в методе градиентного спуска, так как неизвестно какой из локальных/глобальных минимумов мы найдем. Также критерий остановки.\n",
    "Понизит качество поиска уменьшение значения при котором алгоритм останавливается, а также при неудачном выборе шага обучения."
   ]
  },
  {
   "cell_type": "markdown",
   "metadata": {},
   "source": [
    "ДЗ1 Lesson_1_HW\n",
    "\n",
    "1. Подберите скорость обучения (alpha) и количество итераций\n",
    "\n",
    "*2. В этом коде мы избавляемся от итераций по весам, но тут есть ошибка, исправьте ее\n",
    "\n",
    "*3. Вместо того, чтобы задавать количество итераций, задайте условие остановки алгоритма - когда ошибка за итерацию начинает изменяться ниже определенного порога (упрощенный аналог параметра tol в линейной регрессии в sklearn).\n",
    "\n",
    "4. Сделайте выводы по результатам работы с GD : что повышает качество результата, что понижает."
   ]
  },
  {
   "cell_type": "code",
   "execution_count": null,
   "metadata": {},
   "outputs": [],
   "source": []
  }
 ],
 "metadata": {
  "colab": {
   "collapsed_sections": [],
   "name": "Lesson1.ipynb",
   "provenance": []
  },
  "kernelspec": {
   "display_name": "Python 3",
   "language": "python",
   "name": "python3"
  },
  "language_info": {
   "codemirror_mode": {
    "name": "ipython",
    "version": 3
   },
   "file_extension": ".py",
   "mimetype": "text/x-python",
   "name": "python",
   "nbconvert_exporter": "python",
   "pygments_lexer": "ipython3",
   "version": "3.9.1"
  }
 },
 "nbformat": 4,
 "nbformat_minor": 1
}
